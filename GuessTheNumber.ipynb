{
  "nbformat": 4,
  "nbformat_minor": 0,
  "metadata": {
    "colab": {
      "provenance": [],
      "authorship_tag": "ABX9TyMzbZLWdNweHn9Uvcv/LXbv",
      "include_colab_link": true
    },
    "kernelspec": {
      "name": "python3",
      "display_name": "Python 3"
    },
    "language_info": {
      "name": "python"
    }
  },
  "cells": [
    {
      "cell_type": "markdown",
      "metadata": {
        "id": "view-in-github",
        "colab_type": "text"
      },
      "source": [
        "<a href=\"https://colab.research.google.com/github/thyaghu/LearnPython/blob/main/GuessTheNumber.ipynb\" target=\"_parent\"><img src=\"https://colab.research.google.com/assets/colab-badge.svg\" alt=\"Open In Colab\"/></a>"
      ]
    },
    {
      "cell_type": "code",
      "execution_count": 8,
      "metadata": {
        "colab": {
          "base_uri": "https://localhost:8080/"
        },
        "id": "sBN5Tc27DJHt",
        "outputId": "9fce71eb-68ea-4c4b-9228-1e472ab1be8f"
      },
      "outputs": [
        {
          "output_type": "stream",
          "name": "stdout",
          "text": [
            "enter upper bound100\n",
            "enter lower bound0\n",
            "enter your guess50\n",
            "guess higher\n",
            "enter your guess75\n",
            "guess higher\n",
            "enter your guess87\n",
            "guess higher\n",
            "enter your guess90\n",
            "guess higher\n",
            "enter your guess95\n",
            "guess higher\n",
            "enter your guess98\n",
            "guess higher\n",
            "enter your guess99\n",
            "you guessed right in attempt7\n"
          ]
        }
      ],
      "source": [
        "import random\n",
        "upper_bound=int(input(\"enter upper bound\"))\n",
        "lower_bound=int(input(\"enter lower bound\"))\n",
        "x=random.randrange(lower_bound,upper_bound)\n",
        "result=False\n",
        "i=0\n",
        "while not(result):\n",
        "  i=i+1\n",
        "  guess=int(input(\"enter your guess\"))\n",
        "  if x==guess:\n",
        "    result=True\n",
        "    print(\"you guessed right in attempt\"+ str(i))\n",
        "  elif(x>guess and x<upper_bound):\n",
        "    print(\"guess higher\")\n",
        "  elif(x<guess and x>lower_bound):\n",
        "    print(\"guess lower\")\n",
        "  else:\n",
        "    print(\"guess not in range\")\n",
        ""
      ]
    }
  ]
}