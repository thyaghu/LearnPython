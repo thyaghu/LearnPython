{
  "nbformat": 4,
  "nbformat_minor": 0,
  "metadata": {
    "colab": {
      "provenance": [],
      "authorship_tag": "ABX9TyNIllqwDP5M6SGa345dKhac",
      "include_colab_link": true
    },
    "kernelspec": {
      "name": "python3",
      "display_name": "Python 3"
    },
    "language_info": {
      "name": "python"
    }
  },
  "cells": [
    {
      "cell_type": "markdown",
      "metadata": {
        "id": "view-in-github",
        "colab_type": "text"
      },
      "source": [
        "<a href=\"https://colab.research.google.com/github/thyaghu/LearnPython/blob/main/csv_reader.ipynb\" target=\"_parent\"><img src=\"https://colab.research.google.com/assets/colab-badge.svg\" alt=\"Open In Colab\"/></a>"
      ]
    },
    {
      "cell_type": "code",
      "execution_count": 15,
      "metadata": {
        "colab": {
          "base_uri": "https://localhost:8080/"
        },
        "id": "_PL7enu5dFot",
        "outputId": "d9b3c970-fe51-4278-d660-3949213b0f14"
      },
      "outputs": [
        {
          "output_type": "stream",
          "name": "stdout",
          "text": [
            "{'Branch': 'Branch A', 'Date': 'January 1', 'Amount': '500.00'}\n",
            "{'Branch': 'Branch B', 'Date': 'January 2', 'Amount': '250.00'}\n",
            "{'Branch': 'Branch A', 'Date': 'January 3', 'Amount': '300.00'}\n"
          ]
        }
      ],
      "source": [
        "import csv\n",
        "with open('/content/sample_data/example-1.csv',mode='r') as csv_file:\n",
        "    csv_reader=csv.DictReader(csv_file)\n",
        "\n",
        "    for row in csv_reader:\n",
        "        print(row)"
      ]
    }
  ]
}